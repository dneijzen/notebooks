{
 "metadata": {
  "name": "",
  "signature": "sha256:b0f6278e822e8e1016afd0b76b038b073025a1a1974d34e43edbb7e4f658dbff"
 },
 "nbformat": 3,
 "nbformat_minor": 0,
 "worksheets": [
  {
   "cells": [
    {
     "cell_type": "code",
     "collapsed": false,
     "input": [
      "import numpy\n",
      "import scipy\n",
      "import math\n",
      "import matplotlib.pyplot as plt\n",
      "%matplotlib inline"
     ],
     "language": "python",
     "metadata": {},
     "outputs": [],
     "prompt_number": 2
    },
    {
     "cell_type": "code",
     "collapsed": false,
     "input": [
      "def myFunc(t,t_last,delta_t): \n",
      "    y = delta_t*math.exp(-.25*(t-t_last))*math.cos(t)**2\n",
      "    return y"
     ],
     "language": "python",
     "metadata": {},
     "outputs": [],
     "prompt_number": 3
    },
    {
     "cell_type": "code",
     "collapsed": false,
     "input": [
      "def data_gen(func,tmax, delta_t): # voor absolute tijden genereren: stek t_last = 0 en werk niet bij in while-loop\n",
      "    t = 0\n",
      "    t_last = 0\n",
      "    events = []\n",
      "    while(t<tmax):\n",
      "        U = numpy.random.uniform(0,1)\n",
      "        if(func(t,t_last,delta_t)>U):\n",
      "            events.append(t) \n",
      "            t_last = t\n",
      "\n",
      "        t = t+delta_t\n",
      "            \n",
      "    return events"
     ],
     "language": "python",
     "metadata": {},
     "outputs": [],
     "prompt_number": 11
    },
    {
     "cell_type": "code",
     "collapsed": false,
     "input": [
      "def D(t, t_last, delta_t):\n",
      "    y = delta_t*math.sqrt((t-t_last))\n",
      "    return y"
     ],
     "language": "python",
     "metadata": {},
     "outputs": [],
     "prompt_number": 30
    },
    {
     "cell_type": "code",
     "collapsed": false,
     "input": [
      "\n",
      "t = data_gen(myFunc,100000,1)\n",
      "plt.plot(t,'.')"
     ],
     "language": "python",
     "metadata": {},
     "outputs": [
      {
       "metadata": {},
       "output_type": "pyout",
       "prompt_number": 41,
       "text": [
        "[<matplotlib.lines.Line2D at 0x7f57e9eb0c10>]"
       ]
      },
      {
       "metadata": {},
       "output_type": "display_data",
       "png": "[encoded data removed]",
       "text": [
        "<matplotlib.figure.Figure at 0x7f57ea3d9ed0>"
       ]
      }
     ],
     "prompt_number": 41
    },
    {
     "cell_type": "code",
     "collapsed": false,
     "input": [
      "def C(t, t_last, delta_t):\n",
      "    y = delta_t*(t-t_last)\n",
      "    return y"
     ],
     "language": "python",
     "metadata": {},
     "outputs": [],
     "prompt_number": 17
    },
    {
     "cell_type": "code",
     "collapsed": false,
     "input": [
      "def E(t, t_last, delta_t):\n",
      "    y = delta_t*((math.sin**2(3(t-t_last))) + math.sin**2(12*(t-t_last)))\n",
      "    return y"
     ],
     "language": "python",
     "metadata": {},
     "outputs": [],
     "prompt_number": 37
    },
    {
     "cell_type": "code",
     "collapsed": false,
     "input": [],
     "language": "python",
     "metadata": {},
     "outputs": []
    }
   ],
   "metadata": {}
  }
 ]
}