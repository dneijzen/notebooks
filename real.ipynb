{
 "metadata": {
  "name": "",
  "signature": "sha256:bdbefbeefa18d201a512a9bee82ee3bc9dd33b124e080cd88a3d0e957c24bc1d"
 },
 "nbformat": 3,
 "nbformat_minor": 0,
 "worksheets": [
  {
   "cells": [
    {
     "cell_type": "code",
     "collapsed": false,
     "input": [
      "import numpy\n",
      "import scipy\n",
      "import math"
     ],
     "language": "python",
     "metadata": {},
     "outputs": [],
     "prompt_number": 2
    },
    {
     "cell_type": "code",
     "collapsed": false,
     "input": [
      "def real(N,mu): #N in maanden, mu is gemiddelde besteedde bedrag >> output: dag waarop huur wordt betaald en bedrag uitgegeven op een winkeldag: do, vr, za en zo\n",
      "    \n",
      "    dag_h = numpy.zeros(N)\n",
      "    bedrag_s_do = numpy.zeros(N)\n",
      "    bedrag_s_vr = numpy.zeros(N)\n",
      "    bedrag_s_za = numpy.zeros(N)\n",
      "    bedrag_s_zo = numpy.zeros(N)\n",
      "    GG = numpy.zeros(11)\n",
      "    n = 1\n",
      "    j = 1\n",
      "    dag_h = numpy.zeros(N)\n",
      "    for n in range(1,N+1):    \n",
      "        for j in range(1,13,1):\n",
      "            if j<=11:\n",
      "                G = numpy.random.uniform(0,1)\n",
      "                GG[j-1] = G\n",
      "\n",
      "            elif j >= 12 & n<N:\n",
      "                m = max(GG)\n",
      "                a = [i for i, j in enumerate(GG) if j == m]\n",
      "                dag_h[n-2] = a[0]+21\n",
      "                n = n+1\n",
      "                j = 1\n",
      "                       \n",
      "                    ## bedrag_s_dag berekenen voor do, vr, ...\n",
      "        UUV = numpy.zeros(4)\n",
      "        n = 1\n",
      "        bedrag_s_do = numpy.zeros(N)\n",
      "        bedrag_s_vr = numpy.zeros(N)\n",
      "        bedrag_s_za = numpy.zeros(N)\n",
      "        bedrag_s_zo = numpy.zeros(N)\n",
      "\n",
      "        for n in range(1,N+1,1):\n",
      "            for j in range(1,6,1):\n",
      "                if j <=4:\n",
      "                    U = numpy.random.uniform(0,1)\n",
      "                    UUV[j-1] = U\n",
      "\n",
      "                    bedrag_s_do[n-1] = UUV[0]*mu*2\n",
      "                    bedrag_s_vr[n-1] = UUV[1]*mu\n",
      "                    bedrag_s_za[n-1] = UUV[2]*mu\n",
      "                    bedrag_s_zo[n-1] = UUV[3]*mu\n",
      "                    j = j+1\n",
      "\n",
      "                elif j > 4:\n",
      "                    j = 1\n",
      "                    n = n+1\n",
      "        \n",
      "    return dag_h, bedrag_s_do, bedrag_s_vr, bedrag_s_za, bedrag_s_zo"
     ],
     "language": "python",
     "metadata": {},
     "outputs": [],
     "prompt_number": 3
    },
    {
     "cell_type": "code",
     "collapsed": false,
     "input": [
      "dag_h, bedrag_s_do, bedrag_s_vr, bedrag_s_za, bedrag_s_zo = real(5,100)\n",
      "print bedrag_s_vr"
     ],
     "language": "python",
     "metadata": {},
     "outputs": [
      {
       "output_type": "stream",
       "stream": "stdout",
       "text": [
        "[ 34.75085603  13.71703386  35.93165354  21.13664131   6.72512771]\n"
       ]
      }
     ],
     "prompt_number": 6
    }
   ],
   "metadata": {}
  }
 ]
}