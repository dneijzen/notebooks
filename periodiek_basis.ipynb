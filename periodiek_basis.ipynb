{
 "metadata": {
  "name": "",
  "signature": "sha256:b8a96f6c7ea6a091c70ad84d3f67c8484d714589ee136a92826592ed82f6a2c6"
 },
 "nbformat": 3,
 "nbformat_minor": 0,
 "worksheets": [
  {
   "cells": [
    {
     "cell_type": "code",
     "collapsed": false,
     "input": [
      "import numpy\n",
      "import scipy\n",
      "import math\n",
      "import matplotlib.pyplot as plt\n",
      "%matplotlib inline"
     ],
     "language": "python",
     "metadata": {},
     "outputs": [],
     "prompt_number": 3
    },
    {
     "cell_type": "code",
     "collapsed": false,
     "input": [
      "def per(N,p): #N in maanden, output: dag waarop event plaats vindt, p is de lengte van de periode\n",
      "    n = 1\n",
      "    j = 1\n",
      "    dag_event = numpy.zeros(N*p)\n",
      "    \n",
      "    for i in range(1,p*N+1):\n",
      "        U = numpy.random.uniform(0,1)\n",
      "        if(i%3 == 0):\n",
      "            dag_event[i-1] = 1*U\n",
      "        else:\n",
      "            dag_event[i-1] = 0\n",
      "    return dag_event"
     ],
     "language": "python",
     "metadata": {},
     "outputs": [],
     "prompt_number": 4
    },
    {
     "cell_type": "code",
     "collapsed": false,
     "input": [
      "per(1,12)"
     ],
     "language": "python",
     "metadata": {},
     "outputs": [
      {
       "metadata": {},
       "output_type": "pyout",
       "prompt_number": 5,
       "text": [
        "array([ 0.        ,  0.        ,  0.24837631,  0.        ,  0.        ,\n",
        "        0.39151494,  0.        ,  0.        ,  0.83528871,  0.        ,\n",
        "        0.        ,  0.18746054])"
       ]
      }
     ],
     "prompt_number": 5
    },
    {
     "cell_type": "code",
     "collapsed": false,
     "input": [],
     "language": "python",
     "metadata": {},
     "outputs": []
    }
   ],
   "metadata": {}
  }
 ]
}