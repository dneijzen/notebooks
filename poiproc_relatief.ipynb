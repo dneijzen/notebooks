{
 "metadata": {
  "name": "",
  "signature": "sha256:83efd12b982ebcd5b6432e6cf68bf11b3390c894ee2fa849e8b70e3ce1429889"
 },
 "nbformat": 3,
 "nbformat_minor": 0,
 "worksheets": [
  {
   "cells": [
    {
     "cell_type": "code",
     "collapsed": false,
     "input": [
      "import numpy\n",
      "import scipy\n",
      "import math\n",
      "import matplotlib.pyplot as plt\n",
      "%matplotlib inline"
     ],
     "language": "python",
     "metadata": {},
     "outputs": [],
     "prompt_number": 2
    },
    {
     "cell_type": "code",
     "collapsed": false,
     "input": [
      "a = numpy.zeros(10)\n",
      "for i in range(0,10):\n",
      "    a[i] = i\n",
      "b = a.cumsum()\n",
      "print a\n",
      "print b"
     ],
     "language": "python",
     "metadata": {},
     "outputs": [
      {
       "output_type": "stream",
       "stream": "stdout",
       "text": [
        "[ 0.  1.  2.  3.  4.  5.  6.  7.  8.  9.]\n",
        "[  0.   1.   3.   6.  10.  15.  21.  28.  36.  45.]\n"
       ]
      }
     ],
     "prompt_number": 3
    },
    {
     "cell_type": "code",
     "collapsed": false,
     "input": [
      "def poiproc(lmbda,T):\n",
      "    t = 0\n",
      "    global I \n",
      "    I = 0\n",
      "    S = []\n",
      "\n",
      "    while(t<T):\n",
      "        U = numpy.random.uniform(0,1,1) #'genereer unifom random getal'\n",
      "        t = t-(1.0/lmbda) * math.log(U,math.e) #'bereken volgende tijdstip waarop event plaatsvindt'\n",
      "        S.append(t) #'voeg eventtijdstippen toe aan S'\n",
      "        I = I+1 #'totale aantal events op 0 tot T'\n",
      "    \n",
      "    return S"
     ],
     "language": "python",
     "metadata": {},
     "outputs": [],
     "prompt_number": 4
    },
    {
     "cell_type": "code",
     "collapsed": false,
     "input": [
      "a = poiproc(5,7)\n",
      "print a\n",
      "#fig = plt.figure(figsize=(4,5))\n",
      "#plt.plot(a)\n",
      "#fig.show()\n",
      "#plt.hist(a, histtype='bar')\n",
      "x = numpy.zeros(I)\n",
      "plt.plot(a,x,'.')"
     ],
     "language": "python",
     "metadata": {},
     "outputs": [
      {
       "output_type": "stream",
       "stream": "stdout",
       "text": [
        "[0.4256600628872012, 0.537555942113766, 0.6060660140311487, 1.1301944886483515, 1.8967915514205562, 2.4969770321230382, 2.915354769523023, 3.0659101799091926, 3.307418714086876, 3.3509029421614356, 3.8544262151259, 4.3591373266001945, 5.0208854478845275, 5.204058424187844, 5.374785004832274, 5.377622370326106, 5.382455252155605, 5.427706712433285, 5.662109704529894, 5.7642424174213645, 5.790010824173048, 6.046990055769728, 6.282918124821868, 6.339825713239947, 6.466776283909513, 6.549503932055305, 6.5727853770010585, 6.706639003643214, 7.093484238766761]\n"
       ]
      },
      {
       "metadata": {},
       "output_type": "pyout",
       "prompt_number": 5,
       "text": [
        "[<matplotlib.lines.Line2D at 0x7f52c3bc4690>]"
       ]
      },
      {
       "metadata": {},
       "output_type": "display_data",
       "png": "[encoded data removed]",
       "text": [
        "<matplotlib.figure.Figure at 0x7f52e1f2cb50>"
       ]
      }
     ],
     "prompt_number": 5
    },
    {
     "cell_type": "code",
     "collapsed": false,
     "input": [
      "h = numpy.zeros(7,'.')\n",
      "print h"
     ],
     "language": "python",
     "metadata": {},
     "outputs": [
      {
       "ename": "TypeError",
       "evalue": "data type \".\" not understood",
       "output_type": "pyerr",
       "traceback": [
        "\u001b[1;31m---------------------------------------------------------------------------\u001b[0m\n\u001b[1;31mTypeError\u001b[0m                                 Traceback (most recent call last)",
        "\u001b[1;32m<ipython-input-6-136da0af4856>\u001b[0m in \u001b[0;36m<module>\u001b[1;34m()\u001b[0m\n\u001b[1;32m----> 1\u001b[1;33m \u001b[0mh\u001b[0m \u001b[1;33m=\u001b[0m \u001b[0mnumpy\u001b[0m\u001b[1;33m.\u001b[0m\u001b[0mzeros\u001b[0m\u001b[1;33m(\u001b[0m\u001b[1;36m7\u001b[0m\u001b[1;33m,\u001b[0m\u001b[1;34m'.'\u001b[0m\u001b[1;33m)\u001b[0m\u001b[1;33m\u001b[0m\u001b[0m\n\u001b[0m\u001b[0;32m      2\u001b[0m \u001b[1;32mprint\u001b[0m \u001b[0mh\u001b[0m\u001b[1;33m\u001b[0m\u001b[0m\n",
        "\u001b[1;31mTypeError\u001b[0m: data type \".\" not understood"
       ]
      }
     ],
     "prompt_number": 6
    },
    {
     "cell_type": "code",
     "collapsed": false,
     "input": [
      "def pois(mu,x):\n",
      "    N = (math.exp(-mu) * mu**x) / math.factorial(x)\n",
      "    return N"
     ],
     "language": "python",
     "metadata": {},
     "outputs": [],
     "prompt_number": 7
    },
    {
     "cell_type": "code",
     "collapsed": false,
     "input": [
      "def poiproc_a(lmbda,T):\n",
      "    t = 0\n",
      "    global I \n",
      "    I = 0\n",
      "    S = []\n",
      "    global n\n",
      "    # number of events\n",
      "    n = len(a)\n",
      "    \n",
      "    for t in range(0,T/n):\n",
      "        U = numpy.random.uniform(0,1,1) #'genereer unifom random getal'\n",
      "        p = t-(1.0/lmbda) * math.log(U,math.e) #'bereken volgende tijdstip waarop event plaatsvindt'\n",
      "        S.append(p) #'voeg eventtijdstippen toe aan S'\n",
      "        I = I+1 #'totale aantal events op 0 tot T'\n",
      "    \n",
      "    return S"
     ],
     "language": "python",
     "metadata": {},
     "outputs": [],
     "prompt_number": 14
    },
    {
     "cell_type": "code",
     "collapsed": false,
     "input": [
      "n = len(a)\n",
      "n"
     ],
     "language": "python",
     "metadata": {},
     "outputs": [
      {
       "metadata": {},
       "output_type": "pyout",
       "prompt_number": 17,
       "text": [
        "29"
       ]
      }
     ],
     "prompt_number": 17
    },
    {
     "cell_type": "code",
     "collapsed": false,
     "input": [],
     "language": "python",
     "metadata": {},
     "outputs": []
    }
   ],
   "metadata": {}
  }
 ]
}