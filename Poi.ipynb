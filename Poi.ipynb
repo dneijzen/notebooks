{
 "metadata": {
  "name": "",
  "signature": "sha256:f71233ca2c6d6589094405b0fa4f366f700fa6d8eff15e69316c9c8d852992c9"
 },
 "nbformat": 3,
 "nbformat_minor": 0,
 "worksheets": [
  {
   "cells": [
    {
     "cell_type": "code",
     "collapsed": false,
     "input": [
      "import numpy\n",
      "import scipy\n",
      "import math\n",
      "\n",
      "p = numpy.random.uniform(0,1,1)\n",
      "j = 0\n",
      "p = exp(-lmbda)\n",
      "F = p\n",
      "\n",
      "while(U>F)\n",
      "    p = (lmbda*p)/(j+1)\n",
      "    F = F+p\n",
      "    j = j+1\n",
      "    X = j\n",
      "    \n"
     ],
     "language": "python",
     "metadata": {},
     "outputs": []
    }
   ],
   "metadata": {}
  }
 ]
}