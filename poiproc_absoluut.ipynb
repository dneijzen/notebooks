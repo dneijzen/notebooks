{
 "metadata": {
  "name": "",
  "signature": "sha256:73b885f4d9638d8779c272ed667454224df8d37d1cb0d82e46cbe0a288f1ef63"
 },
 "nbformat": 3,
 "nbformat_minor": 0,
 "worksheets": [
  {
   "cells": [
    {
     "cell_type": "code",
     "collapsed": false,
     "input": [
      "import numpy\n",
      "import scipy\n",
      "import math\n",
      "import matplotlib.pyplot as plt\n",
      "%matplotlib inline"
     ],
     "language": "python",
     "metadata": {},
     "outputs": [],
     "prompt_number": 56
    },
    {
     "cell_type": "code",
     "collapsed": false,
     "input": [
      "def pois(mu,x):\n",
      "    N = (math.exp(-mu) * mu**x) / math.factorial(x)\n",
      "    return N"
     ],
     "language": "python",
     "metadata": {},
     "outputs": [],
     "prompt_number": 57
    },
    {
     "cell_type": "code",
     "collapsed": false,
     "input": [
      "def poiproc(lmbda,T):\n",
      "    t = 0\n",
      "    global I \n",
      "    I = 0\n",
      "    S = []\n",
      "    global n\n",
      "    # number of events\n",
      "    n = int(numpy.round_(T/pois(lmbda,T))) \n",
      "    for t in range(1,n):\n",
      "        U = numpy.random.uniform(0,1,1) #'genereer unifom random getal'\n",
      "        p = t* T/n -(1.0/lmbda) * math.log(U,math.e) #'bereken volgende tijdstip waarop event plaatsvindt'\n",
      "        S.append(p) #'voeg eventtijdstippen toe aan S'\n",
      "        I = I+1 #'totale aantal events op 0 tot T'\n",
      "    \n",
      "    return S"
     ],
     "language": "python",
     "metadata": {},
     "outputs": [],
     "prompt_number": 70
    },
    {
     "cell_type": "code",
     "collapsed": false,
     "input": [
      "poiproc(5,7)"
     ],
     "language": "python",
     "metadata": {},
     "outputs": [
      {
       "metadata": {},
       "output_type": "pyout",
       "prompt_number": 71,
       "text": [
        "[0.08895668654035203,\n",
        " 0.5498746778732265,\n",
        " 0.07938644878416087,\n",
        " 0.33567691553861156,\n",
        " 0.21541539036567953,\n",
        " 0.2623453456770554,\n",
        " 0.3562424154094915,\n",
        " 0.03493326688555336,\n",
        " 0.09159964349483792,\n",
        " 1.5887667489411907,\n",
        " 1.3232945769570525,\n",
        " 1.0300250895442074,\n",
        " 1.084792996677199,\n",
        " 1.248280333110037,\n",
        " 1.0030116980684396,\n",
        " 1.136003646904059,\n",
        " 1.8274106603823954,\n",
        " 1.054703326345384,\n",
        " 1.3523027706680268,\n",
        " 2.139210797287415,\n",
        " 2.1167437120886174,\n",
        " 2.250010239908835,\n",
        " 2.089636995707662,\n",
        " 2.1379272077288802,\n",
        " 2.034784959501965,\n",
        " 2.0283327978635715,\n",
        " 2.047896344429148,\n",
        " 2.0236320923774787,\n",
        " 3.5653491600298146,\n",
        " 3.060432754983311,\n",
        " 3.4471008896971,\n",
        " 3.009389125782403,\n",
        " 3.12107635478868,\n",
        " 3.704541435165272,\n",
        " 3.286253901935271,\n",
        " 3.220372629097409,\n",
        " 3.010075261100268,\n",
        " 3.965436268356883,\n",
        " 4.205014511446666,\n",
        " 4.05398023597241,\n",
        " 4.172868367685329,\n",
        " 4.018073090670976,\n",
        " 4.069252731584642,\n",
        " 4.084283903729202,\n",
        " 4.1403400500404,\n",
        " 4.240901467800403,\n",
        " 4.179470281917894,\n",
        " 5.031900505437142,\n",
        " 5.071978626992654,\n",
        " 5.029454353575016,\n",
        " 5.281431729100475,\n",
        " 5.105499945415889,\n",
        " 5.020196460859232,\n",
        " 5.267846109022438,\n",
        " 5.143088326865119,\n",
        " 5.749891999866593,\n",
        " 5.084910355176426,\n",
        " 6.061575523312027,\n",
        " 6.589576633423257,\n",
        " 6.153230445954581,\n",
        " 6.130235743725627,\n",
        " 6.075073308820004,\n",
        " 6.067999775979176,\n",
        " 6.189122678464814,\n",
        " 6.105192698730497,\n",
        " 6.223355914777215]"
       ]
      }
     ],
     "prompt_number": 71
    },
    {
     "cell_type": "code",
     "collapsed": false,
     "input": [
      "n = numpy.round_(7/pois(5,7))\n",
      "n"
     ],
     "language": "python",
     "metadata": {},
     "outputs": [
      {
       "metadata": {},
       "output_type": "pyout",
       "prompt_number": 53,
       "text": [
        "67.0"
       ]
      }
     ],
     "prompt_number": 53
    },
    {
     "cell_type": "code",
     "collapsed": false,
     "input": [],
     "language": "python",
     "metadata": {},
     "outputs": []
    }
   ],
   "metadata": {}
  }
 ]
}