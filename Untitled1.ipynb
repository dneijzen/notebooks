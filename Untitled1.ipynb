{
 "metadata": {
  "name": "",
  "signature": "sha256:ab33c225a1c9881e5f837052f97cbbb5b4d862c1dab3521cfb9baf21e723d082"
 },
 "nbformat": 3,
 "nbformat_minor": 0,
 "worksheets": [
  {
   "cells": [
    {
     "cell_type": "code",
     "collapsed": false,
     "input": [
      "import numpy\n",
      "import scipy\n",
      "import math\n",
      "import matplotlib.pyplot as plt\n",
      "%matplotlib inline"
     ],
     "language": "python",
     "metadata": {},
     "outputs": [],
     "prompt_number": 1
    },
    {
     "cell_type": "code",
     "collapsed": false,
     "input": [
      "def func(x):\n",
      "    y = 0\n",
      "    if (x>=0.0):\n",
      "        if(x<=0.9):\n",
      "            y = -x + 1\n",
      "    elif (x<=1.0):\n",
      "        if(x>=0.9):\n",
      "            y = 9*x - 8\n",
      "    return y"
     ],
     "language": "python",
     "metadata": {},
     "outputs": [],
     "prompt_number": 19
    },
    {
     "cell_type": "code",
     "collapsed": false,
     "input": [
      "x = numpy.linspace(0,1,100)\n",
      "m = numpy.zeros(100)\n",
      "for i in range(0,100):\n",
      "    m[i] = func(x[i])\n",
      "    \n",
      "m"
     ],
     "language": "python",
     "metadata": {},
     "outputs": [
      {
       "metadata": {},
       "output_type": "pyout",
       "prompt_number": 32,
       "text": [
        "array([ 1.        ,  0.98989899,  0.97979798,  0.96969697,  0.95959596,\n",
        "        0.94949495,  0.93939394,  0.92929293,  0.91919192,  0.90909091,\n",
        "        0.8989899 ,  0.88888889,  0.87878788,  0.86868687,  0.85858586,\n",
        "        0.84848485,  0.83838384,  0.82828283,  0.81818182,  0.80808081,\n",
        "        0.7979798 ,  0.78787879,  0.77777778,  0.76767677,  0.75757576,\n",
        "        0.74747475,  0.73737374,  0.72727273,  0.71717172,  0.70707071,\n",
        "        0.6969697 ,  0.68686869,  0.67676768,  0.66666667,  0.65656566,\n",
        "        0.64646465,  0.63636364,  0.62626263,  0.61616162,  0.60606061,\n",
        "        0.5959596 ,  0.58585859,  0.57575758,  0.56565657,  0.55555556,\n",
        "        0.54545455,  0.53535354,  0.52525253,  0.51515152,  0.50505051,\n",
        "        0.49494949,  0.48484848,  0.47474747,  0.46464646,  0.45454545,\n",
        "        0.44444444,  0.43434343,  0.42424242,  0.41414141,  0.4040404 ,\n",
        "        0.39393939,  0.38383838,  0.37373737,  0.36363636,  0.35353535,\n",
        "        0.34343434,  0.33333333,  0.32323232,  0.31313131,  0.3030303 ,\n",
        "        0.29292929,  0.28282828,  0.27272727,  0.26262626,  0.25252525,\n",
        "        0.24242424,  0.23232323,  0.22222222,  0.21212121,  0.2020202 ,\n",
        "        0.19191919,  0.18181818,  0.17171717,  0.16161616,  0.15151515,\n",
        "        0.14141414,  0.13131313,  0.12121212,  0.11111111,  0.1010101 ,\n",
        "        0.        ,  0.        ,  0.        ,  0.        ,  0.        ,\n",
        "        0.        ,  0.        ,  0.        ,  0.        ,  0.        ])"
       ]
      }
     ],
     "prompt_number": 32
    },
    {
     "cell_type": "code",
     "collapsed": false,
     "input": [
      "x = 12\n",
      "if(x>0.4 & x<15):\n",
      "    print('a')"
     ],
     "language": "python",
     "metadata": {},
     "outputs": [
      {
       "ename": "TypeError",
       "evalue": "unsupported operand type(s) for &: 'float' and 'int'",
       "output_type": "pyerr",
       "traceback": [
        "\u001b[1;31m---------------------------------------------------------------------------\u001b[0m\n\u001b[1;31mTypeError\u001b[0m                                 Traceback (most recent call last)",
        "\u001b[1;32m<ipython-input-27-75b429d55c94>\u001b[0m in \u001b[0;36m<module>\u001b[1;34m()\u001b[0m\n\u001b[0;32m      1\u001b[0m \u001b[0mx\u001b[0m \u001b[1;33m=\u001b[0m \u001b[1;36m12\u001b[0m\u001b[1;33m\u001b[0m\u001b[0m\n\u001b[1;32m----> 2\u001b[1;33m \u001b[1;32mif\u001b[0m\u001b[1;33m(\u001b[0m\u001b[0mx\u001b[0m\u001b[1;33m>\u001b[0m\u001b[1;36m0.4\u001b[0m \u001b[1;33m&\u001b[0m \u001b[0mx\u001b[0m\u001b[1;33m<\u001b[0m\u001b[1;36m15\u001b[0m\u001b[1;33m)\u001b[0m\u001b[1;33m:\u001b[0m\u001b[1;33m\u001b[0m\u001b[0m\n\u001b[0m\u001b[0;32m      3\u001b[0m     \u001b[1;32mprint\u001b[0m\u001b[1;33m(\u001b[0m\u001b[1;34m'a'\u001b[0m\u001b[1;33m)\u001b[0m\u001b[1;33m\u001b[0m\u001b[0m\n",
        "\u001b[1;31mTypeError\u001b[0m: unsupported operand type(s) for &: 'float' and 'int'"
       ]
      }
     ],
     "prompt_number": 27
    },
    {
     "cell_type": "code",
     "collapsed": false,
     "input": [
      "m = numpy.zeros(11)\n",
      "m"
     ],
     "language": "python",
     "metadata": {},
     "outputs": [
      {
       "metadata": {},
       "output_type": "pyout",
       "prompt_number": 25,
       "text": [
        "array([ 0.,  0.,  0.,  0.,  0.,  0.,  0.,  0.,  0.,  0.,  0.])"
       ]
      }
     ],
     "prompt_number": 25
    },
    {
     "cell_type": "code",
     "collapsed": false,
     "input": [],
     "language": "python",
     "metadata": {},
     "outputs": []
    }
   ],
   "metadata": {}
  }
 ]
}